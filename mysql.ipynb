{
 "cells": [
  {
   "cell_type": "code",
   "execution_count": 1,
   "id": "1dd1d203",
   "metadata": {},
   "outputs": [],
   "source": [
    "import mysql.connector\n",
    "from read_tables_into_database import PDFTableReader"
   ]
  },
  {
   "cell_type": "code",
   "execution_count": 2,
   "id": "a49472ba",
   "metadata": {},
   "outputs": [],
   "source": [
    "mydb = mysql.connector.connect(\n",
    "    host='192.168.0.41',\n",
    "    user='lars',\n",
    "    password='Lilleaker01'\n",
    ")"
   ]
  },
  {
   "cell_type": "code",
   "execution_count": null,
   "id": "b6facd0e",
   "metadata": {},
   "outputs": [],
   "source": [
    "pdf = PDFTableReader(\n",
    "    'ns-en-1995-1-1_2004+a2_2014+na_2024_en_001.pdf',\n",
    "    mydb,\n",
    "    'tables'\n",
    ")\n",
    "\n",
    "pdf.extract_tables_pages(20, recreate_table=True)"
   ]
  }
 ],
 "metadata": {
  "kernelspec": {
   "display_name": "Python 3",
   "language": "python",
   "name": "python3"
  },
  "language_info": {
   "codemirror_mode": {
    "name": "ipython",
    "version": 3
   },
   "file_extension": ".py",
   "mimetype": "text/x-python",
   "name": "python",
   "nbconvert_exporter": "python",
   "pygments_lexer": "ipython3",
   "version": "3.12.10"
  }
 },
 "nbformat": 4,
 "nbformat_minor": 5
}
